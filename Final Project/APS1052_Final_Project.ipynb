{
  "nbformat": 4,
  "nbformat_minor": 0,
  "metadata": {
    "colab": {
      "name": "APS1052 Final Project.ipynb",
      "provenance": [],
      "collapsed_sections": []
    },
    "kernelspec": {
      "name": "python3",
      "display_name": "Python 3"
    },
    "language_info": {
      "name": "python"
    }
  },
  "cells": [
    {
      "cell_type": "markdown",
      "source": [
        "#DK - Bootstrapping - from 0610 lecture (6.WhitesRealityCheck.pptx) - very important \n",
        "\n",
        "Googling:\n",
        "https://statisticsbyjim.com/hypothesis-testing/bootstrapping/\n",
        "\n",
        "Bootstrapping is a statistical procedure that resamples a single dataset to create many simulated samples. \n",
        "This process allows you to calculate standard errors, construct confidence intervals, and perform hypothesis testing \n",
        "for numerous types of sample statistics. Bootstrap methods are alternative approaches to traditional hypothesis testing \n",
        "and are notable for being easier to understand and valid for more conditions."
      ],
      "metadata": {
        "id": "JHMb1GlABC81"
      }
    },
    {
      "cell_type": "markdown",
      "source": [
        "From 'WhiteRealityCheckFor1.py"
      ],
      "metadata": {
        "id": "4gON40JfHyZn"
      }
    },
    {
      "cell_type": "code",
      "execution_count": null,
      "metadata": {
        "id": "R6QoslpuGJDe"
      },
      "outputs": [],
      "source": [
        "import numpy as np\n",
        "import pandas as pd\n",
        "import matplotlib.pyplot as plt\n",
        "import seaborn as sns\n",
        "\n",
        "#seaborn.mpl.rcParams['figure.figsize'] = (10.0, 6.0)\n",
        "#seaborn.mpl.rcParams['savefig.dpi'] = 90\n",
        "'''\n",
        "https://people.duke.edu/~ccc14/sta-663/ResamplingAndMonteCarloSimulations.html\n",
        "This subroutine will calculate White's Reality Check for a single trading rule\n",
        "in accordance with Aronson's Evidence Based Technical Analysis p.237ff\n",
        "\n",
        "'''\n",
        "\n",
        "\n",
        "#returns must be detrended by subtracting the average daily return of the benchmark\n",
        "def bootstrap(ser):\n",
        "    ser.dropna(inplace=True)\n",
        "    arr = np.array(ser.values)\n",
        "    alpha = .05*100 #significance alpha\n",
        "    reps = 5000 #how many bootstrapings, 50000 limit if you have 8GB RAM\n",
        "\n",
        "    percentile = 100-alpha\n",
        "    ave = np.average(arr) #arithmetic mean\n",
        "\n",
        "    print(\"average return %f\" %ave)\n",
        "\n",
        "    #ave = ms.gmean(arr) #geometric mean\n",
        "\n",
        "    centered_arr = arr-ave\n",
        "    n = len(centered_arr)\n",
        "    #constructs 50000 alternative return histories and calculates their theoretical averages\n",
        "    xb = np.random.choice(centered_arr, (n, reps), replace=True)\n",
        "    mb = xb.mean(axis=0) #arithmetic mean\n",
        "    #mb = ms.gmean(mb, axis=0) #geometric mean\n",
        "\n",
        "    #sorts the 50000 averages\n",
        "    mb.sort()\n",
        "    #calculates the 95% conficence interval (two tails) threshold for the theoretical averages\n",
        "    print(np.percentile(mb, [2.5, 97.5])) \n",
        "    threshold = np.percentile(mb, [percentile])[0]\n",
        "\n",
        "\n",
        "    if ave > threshold:\n",
        "        print(\"Reject Ho = The population distribution of rule returns has an expected value of zero or less (because p_value is small enough)\")\n",
        "    else:\n",
        "        print(\"Do not reject Ho = The population distribution of rule returns has an expected value of zero or less (because p_value is not small enough)\")\n",
        "\n",
        "    #count will be the items i that are smaller than ave\n",
        "    count_vals = 0\n",
        "    for i in mb:\n",
        "        count_vals += 1\n",
        "        if i > ave:\n",
        "            break\n",
        "        \n",
        "    #p is based on the count that are larger than ave so 1-count is needed:\n",
        "    p = 1-count_vals/len(mb)\n",
        "\n",
        "    print(\"p_value:\")\n",
        "    print(p)\n",
        "\n",
        "\n",
        "    \n",
        "    #histogram\n",
        "    sr = pd.Series(mb)\n",
        "    desc = sr.describe()\n",
        "    count = desc[0]\n",
        "    std = desc[2]\n",
        "    minim = desc[3]\n",
        "    maxim = desc[7]\n",
        "    R = maxim-minim\n",
        "    n = count\n",
        "    s = std\n",
        "    bins = int(round(R*(n**(1/3))/(3.49*std),0))\n",
        "    fig = sr.hist(bins=bins)\n",
        "   # plt.show()\n",
        "    \n",
        "\n",
        "    #about the histogram\n",
        "    #https://stackoverflow.com/questions/33458566/how-to-choose-bins-in-matplotlib-histogram\n",
        "    #R(n^(1/3))/(3.49σ)\n",
        "    #R is the range of data (in your case R = 3-(-3)= 6),\n",
        "    #n is the number of samples,\n",
        "    #σ is your standard deviation.\n"
      ]
    },
    {
      "cell_type": "code",
      "source": [
        "import statsmodels.api as sm\n",
        "\n",
        "def detrendPrice(series):\n",
        "    length = len(series)\n",
        "    x = np.arange(length)\n",
        "    y = np.array(series.values)\n",
        "    x_const = sm.add_constant(x)\n",
        "    model = sm.OLS(y,x_const)\n",
        "    result = model.fit()\n",
        "    df = pd.DataFrame(result.params*x_const)\n",
        "    y_hat = df[0] + df[1]\n",
        "    #the residuals are the detrended prices\n",
        "    resid = y-y_hat\n",
        "    #add minimum necessary to residuals to avoid negative detrended prices\n",
        "    resid = resid + abs(resid.min() + 1/10*resid.min())\n",
        "    return resid "
      ],
      "metadata": {
        "id": "4GLnOvyGsPNE"
      },
      "execution_count": null,
      "outputs": []
    },
    {
      "cell_type": "markdown",
      "source": [
        "# Feature Engineering"
      ],
      "metadata": {
        "id": "fLtPn2BseYDa"
      }
    },
    {
      "cell_type": "code",
      "source": [
        "import pandas as pd\n",
        "import numpy as np"
      ],
      "metadata": {
        "id": "YgVxsmJnec11"
      },
      "execution_count": null,
      "outputs": []
    },
    {
      "cell_type": "code",
      "source": [
        "from google.colab import drive\n",
        "drive.mount('/content/drive')"
      ],
      "metadata": {
        "colab": {
          "base_uri": "https://localhost:8080/"
        },
        "id": "AwoTsk8Md3Bi",
        "outputId": "9db798a8-0aa8-4f13-b3cc-c74b7fec2046"
      },
      "execution_count": null,
      "outputs": [
        {
          "output_type": "stream",
          "name": "stdout",
          "text": [
            "Mounted at /content/drive\n"
          ]
        }
      ]
    },
    {
      "cell_type": "code",
      "source": [
        "AAPL_csv = pd.read_csv(r\"/content/drive/MyDrive/AAPL.csv\")\n",
        "AAPL_csv.head()"
      ],
      "metadata": {
        "colab": {
          "base_uri": "https://localhost:8080/",
          "height": 206
        },
        "id": "ZyOFmbaDeIeX",
        "outputId": "699a7509-dbdb-463a-a6c9-533886029f03"
      },
      "execution_count": 7,
      "outputs": [
        {
          "output_type": "execute_result",
          "data": {
            "text/plain": [
              "         Date       Open       High        Low      Close  Adj Close  \\\n",
              "0  2017-06-29  36.177502  36.282501  35.570000  35.919998  34.004253   \n",
              "1  2017-06-30  36.112499  36.240002  35.945000  36.005001  34.084721   \n",
              "2  2017-07-03  36.220001  36.325001  35.775002  35.875000  33.961651   \n",
              "3  2017-07-05  35.922501  36.197498  35.680000  36.022499  34.101276   \n",
              "4  2017-07-06  35.755001  35.875000  35.602501  35.682499  33.779408   \n",
              "\n",
              "      Volume  \n",
              "0  125997600  \n",
              "1   92096400  \n",
              "2   57111200  \n",
              "3   86278400  \n",
              "4   96515200  "
            ],
            "text/html": [
              "\n",
              "  <div id=\"df-aa71d9e3-cce5-484b-8c2a-b45d89f55f29\">\n",
              "    <div class=\"colab-df-container\">\n",
              "      <div>\n",
              "<style scoped>\n",
              "    .dataframe tbody tr th:only-of-type {\n",
              "        vertical-align: middle;\n",
              "    }\n",
              "\n",
              "    .dataframe tbody tr th {\n",
              "        vertical-align: top;\n",
              "    }\n",
              "\n",
              "    .dataframe thead th {\n",
              "        text-align: right;\n",
              "    }\n",
              "</style>\n",
              "<table border=\"1\" class=\"dataframe\">\n",
              "  <thead>\n",
              "    <tr style=\"text-align: right;\">\n",
              "      <th></th>\n",
              "      <th>Date</th>\n",
              "      <th>Open</th>\n",
              "      <th>High</th>\n",
              "      <th>Low</th>\n",
              "      <th>Close</th>\n",
              "      <th>Adj Close</th>\n",
              "      <th>Volume</th>\n",
              "    </tr>\n",
              "  </thead>\n",
              "  <tbody>\n",
              "    <tr>\n",
              "      <th>0</th>\n",
              "      <td>2017-06-29</td>\n",
              "      <td>36.177502</td>\n",
              "      <td>36.282501</td>\n",
              "      <td>35.570000</td>\n",
              "      <td>35.919998</td>\n",
              "      <td>34.004253</td>\n",
              "      <td>125997600</td>\n",
              "    </tr>\n",
              "    <tr>\n",
              "      <th>1</th>\n",
              "      <td>2017-06-30</td>\n",
              "      <td>36.112499</td>\n",
              "      <td>36.240002</td>\n",
              "      <td>35.945000</td>\n",
              "      <td>36.005001</td>\n",
              "      <td>34.084721</td>\n",
              "      <td>92096400</td>\n",
              "    </tr>\n",
              "    <tr>\n",
              "      <th>2</th>\n",
              "      <td>2017-07-03</td>\n",
              "      <td>36.220001</td>\n",
              "      <td>36.325001</td>\n",
              "      <td>35.775002</td>\n",
              "      <td>35.875000</td>\n",
              "      <td>33.961651</td>\n",
              "      <td>57111200</td>\n",
              "    </tr>\n",
              "    <tr>\n",
              "      <th>3</th>\n",
              "      <td>2017-07-05</td>\n",
              "      <td>35.922501</td>\n",
              "      <td>36.197498</td>\n",
              "      <td>35.680000</td>\n",
              "      <td>36.022499</td>\n",
              "      <td>34.101276</td>\n",
              "      <td>86278400</td>\n",
              "    </tr>\n",
              "    <tr>\n",
              "      <th>4</th>\n",
              "      <td>2017-07-06</td>\n",
              "      <td>35.755001</td>\n",
              "      <td>35.875000</td>\n",
              "      <td>35.602501</td>\n",
              "      <td>35.682499</td>\n",
              "      <td>33.779408</td>\n",
              "      <td>96515200</td>\n",
              "    </tr>\n",
              "  </tbody>\n",
              "</table>\n",
              "</div>\n",
              "      <button class=\"colab-df-convert\" onclick=\"convertToInteractive('df-aa71d9e3-cce5-484b-8c2a-b45d89f55f29')\"\n",
              "              title=\"Convert this dataframe to an interactive table.\"\n",
              "              style=\"display:none;\">\n",
              "        \n",
              "  <svg xmlns=\"http://www.w3.org/2000/svg\" height=\"24px\"viewBox=\"0 0 24 24\"\n",
              "       width=\"24px\">\n",
              "    <path d=\"M0 0h24v24H0V0z\" fill=\"none\"/>\n",
              "    <path d=\"M18.56 5.44l.94 2.06.94-2.06 2.06-.94-2.06-.94-.94-2.06-.94 2.06-2.06.94zm-11 1L8.5 8.5l.94-2.06 2.06-.94-2.06-.94L8.5 2.5l-.94 2.06-2.06.94zm10 10l.94 2.06.94-2.06 2.06-.94-2.06-.94-.94-2.06-.94 2.06-2.06.94z\"/><path d=\"M17.41 7.96l-1.37-1.37c-.4-.4-.92-.59-1.43-.59-.52 0-1.04.2-1.43.59L10.3 9.45l-7.72 7.72c-.78.78-.78 2.05 0 2.83L4 21.41c.39.39.9.59 1.41.59.51 0 1.02-.2 1.41-.59l7.78-7.78 2.81-2.81c.8-.78.8-2.07 0-2.86zM5.41 20L4 18.59l7.72-7.72 1.47 1.35L5.41 20z\"/>\n",
              "  </svg>\n",
              "      </button>\n",
              "      \n",
              "  <style>\n",
              "    .colab-df-container {\n",
              "      display:flex;\n",
              "      flex-wrap:wrap;\n",
              "      gap: 12px;\n",
              "    }\n",
              "\n",
              "    .colab-df-convert {\n",
              "      background-color: #E8F0FE;\n",
              "      border: none;\n",
              "      border-radius: 50%;\n",
              "      cursor: pointer;\n",
              "      display: none;\n",
              "      fill: #1967D2;\n",
              "      height: 32px;\n",
              "      padding: 0 0 0 0;\n",
              "      width: 32px;\n",
              "    }\n",
              "\n",
              "    .colab-df-convert:hover {\n",
              "      background-color: #E2EBFA;\n",
              "      box-shadow: 0px 1px 2px rgba(60, 64, 67, 0.3), 0px 1px 3px 1px rgba(60, 64, 67, 0.15);\n",
              "      fill: #174EA6;\n",
              "    }\n",
              "\n",
              "    [theme=dark] .colab-df-convert {\n",
              "      background-color: #3B4455;\n",
              "      fill: #D2E3FC;\n",
              "    }\n",
              "\n",
              "    [theme=dark] .colab-df-convert:hover {\n",
              "      background-color: #434B5C;\n",
              "      box-shadow: 0px 1px 3px 1px rgba(0, 0, 0, 0.15);\n",
              "      filter: drop-shadow(0px 1px 2px rgba(0, 0, 0, 0.3));\n",
              "      fill: #FFFFFF;\n",
              "    }\n",
              "  </style>\n",
              "\n",
              "      <script>\n",
              "        const buttonEl =\n",
              "          document.querySelector('#df-aa71d9e3-cce5-484b-8c2a-b45d89f55f29 button.colab-df-convert');\n",
              "        buttonEl.style.display =\n",
              "          google.colab.kernel.accessAllowed ? 'block' : 'none';\n",
              "\n",
              "        async function convertToInteractive(key) {\n",
              "          const element = document.querySelector('#df-aa71d9e3-cce5-484b-8c2a-b45d89f55f29');\n",
              "          const dataTable =\n",
              "            await google.colab.kernel.invokeFunction('convertToInteractive',\n",
              "                                                     [key], {});\n",
              "          if (!dataTable) return;\n",
              "\n",
              "          const docLinkHtml = 'Like what you see? Visit the ' +\n",
              "            '<a target=\"_blank\" href=https://colab.research.google.com/notebooks/data_table.ipynb>data table notebook</a>'\n",
              "            + ' to learn more about interactive tables.';\n",
              "          element.innerHTML = '';\n",
              "          dataTable['output_type'] = 'display_data';\n",
              "          await google.colab.output.renderOutput(dataTable, element);\n",
              "          const docLink = document.createElement('div');\n",
              "          docLink.innerHTML = docLinkHtml;\n",
              "          element.appendChild(docLink);\n",
              "        }\n",
              "      </script>\n",
              "    </div>\n",
              "  </div>\n",
              "  "
            ]
          },
          "metadata": {},
          "execution_count": 7
        }
      ]
    },
    {
      "cell_type": "code",
      "source": [
        "df = pd.DataFrame()"
      ],
      "metadata": {
        "id": "SokWTpnHe52l"
      },
      "execution_count": 8,
      "outputs": []
    },
    {
      "cell_type": "markdown",
      "source": [
        "Feature 1: Relative Strength Index (RSI)\n",
        "\n",
        "This is a technical analysis tools used to determine the strength or weakness of a stock's price."
      ],
      "metadata": {
        "id": "BjkBiVJRezck"
      }
    },
    {
      "cell_type": "code",
      "source": [
        "high = AAPL_csv[\"High\"]\n",
        "low = AAPL_csv[\"Low\"]\n",
        "rsi = np.array(100-(100/(1+high/low)))\n",
        "df[\"rsi\"] = rsi"
      ],
      "metadata": {
        "id": "7ayZhaaLe1Pt"
      },
      "execution_count": 9,
      "outputs": []
    },
    {
      "cell_type": "markdown",
      "source": [
        "Feature 2: Moving Average Convergence-DIvergence (MACD)\n",
        "\n",
        "This is a trend-following momentum indicator that shows the relationship between two moving averages of a security’s price. The most popular length of the fast and slow is 12, 26 respectively.\n",
        "\n",
        "[source: https://medium.com/codex/algorithmic-trading-with-macd-in-python-1c2769a6ad1b]"
      ],
      "metadata": {
        "id": "pU5KnBWAfKf8"
      }
    },
    {
      "cell_type": "code",
      "source": [
        "def get_macd(price, slow, fast, smooth):\n",
        "    exp1 = price.ewm(span = fast, adjust = False).mean()\n",
        "    exp2 = price.ewm(span = slow, adjust = False).mean()\n",
        "    macd = pd.DataFrame(exp1 - exp2).rename(columns = {'Close':'macd'})\n",
        "    return macd\n",
        "\n",
        "macd = get_macd(AAPL_csv['Close'], 26, 12, 9)\n",
        "macd.head()\n",
        "\n",
        "df['macd'] = macd"
      ],
      "metadata": {
        "id": "FO0OaoycfNpD"
      },
      "execution_count": 10,
      "outputs": []
    },
    {
      "cell_type": "markdown",
      "source": [
        "Features 3 and 4: Stochastic Oscillator\n",
        "\n",
        "This measures the relationship between an issue's closing price and its price range over a predetermined period of time.\n",
        "\n",
        "[source: https://www.alpharithms.com/stochastic-oscillator-in-python-483214/]"
      ],
      "metadata": {
        "id": "tdZznYLEksDO"
      }
    },
    {
      "cell_type": "code",
      "source": [
        "fast_period = 14\n",
        "slow_period = 3\n",
        "\n",
        "# Adds a \"n_high\" column with max value of previous 14 periods\n",
        "df['n_high'] = AAPL_csv['High'].rolling(fast_period).max()\n",
        "# Adds an \"n_low\" column with min value of previous 14 periods\n",
        "df['n_low'] = AAPL_csv['Low'].rolling(fast_period).min()\n",
        "# Uses the min/max values to calculate the fast line (as a percentage)\n",
        "df['SO_fast'] = (AAPL_csv['Close'] - df['n_low']) * 100 / (df['n_high'] - df['n_low'])\n",
        "# Uses the fast line to calculates a SMA over the past 3 values\n",
        "df['SO_slow'] = df['SO_fast'].rolling(slow_period).mean()\n",
        "\n",
        "df.drop(['n_high','n_low'],axis=1,inplace=True)"
      ],
      "metadata": {
        "id": "_LhJrZeKkufc"
      },
      "execution_count": 11,
      "outputs": []
    },
    {
      "cell_type": "markdown",
      "source": [
        "Features 5, 6 and 7: Percentage difference between the closing price and the 5, 8, and 13 day Exponential Moving Average (EMA) \n",
        "\n",
        "EMA is similar to Simple Moving Average but it applies more weight to data"
      ],
      "metadata": {
        "id": "KHF2DfEnnY7d"
      }
    },
    {
      "cell_type": "code",
      "source": [
        "df[\"ema_5\"] = np.array(pd.Series(np.array(AAPL_csv['Adj Close'])).ewm(span=5, adjust=False).mean().fillna(1).tolist())\n",
        "df[\"ema_8\"] = np.array(pd.Series(np.array(AAPL_csv['Adj Close'])).ewm(span=8, adjust=False).mean().fillna(1).tolist())\n",
        "df[\"ema_13\"] = np.array(pd.Series(np.array(AAPL_csv['Adj Close'])).ewm(span=13, adjust=False).mean().fillna(1).tolist())\n",
        "\n",
        "df[\"DiffClose5_EMA\"] = (AAPL_csv['Adj Close']-df[\"ema_5\"])/df[\"ema_5\"]\n",
        "df[\"DiffClose8_EMA\"] = (AAPL_csv['Adj Close']-df[\"ema_8\"])/df[\"ema_8\"]\n",
        "df[\"DiffClose13_EMA\"] = (AAPL_csv['Adj Close']-df[\"ema_13\"])/df[\"ema_13\"]\n",
        "\n",
        "df.drop(['ema_5','ema_8','ema_13'],axis=1,inplace=True)"
      ],
      "metadata": {
        "id": "WynNjM6Qne3V"
      },
      "execution_count": 12,
      "outputs": []
    },
    {
      "cell_type": "markdown",
      "source": [
        "Features 8 and 9: Difference between Closing Price & Bollinger Bands\n",
        "\n",
        "This is a technical analysis tool defined by a set of trendlines plotted two standard deviations (positively and negatively) away from a simple moving average (SMA) of a security's price, but which can be adjusted to user preferences."
      ],
      "metadata": {
        "id": "-NapC3w5mvdb"
      }
    },
    {
      "cell_type": "code",
      "source": [
        "def sma(data, window):\n",
        "    sma = data.rolling(window = window).mean()\n",
        "    return sma\n",
        "\n",
        "df['sma_20'] = sma(AAPL_csv['Close'], 20)\n",
        "df.tail()\n",
        "\n",
        "\n",
        "def bb(data, sma, window):\n",
        "    std = data.rolling(window = window).std()\n",
        "    upper_bb = sma + std * 2\n",
        "    lower_bb = sma - std * 2\n",
        "    return upper_bb, lower_bb\n",
        "\n",
        "df['upper_bb'], df['lower_bb'] = bb(AAPL_csv['Close'], df['sma_20'], 20)\n",
        "\n",
        "df[\"DiffCloseUpper\"] =  df['upper_bb'] - AAPL_csv['Adj Close']\n",
        "df[\"DiffCloseLower\"] =  AAPL_csv['Adj Close'] - df['lower_bb'] \n",
        "\n",
        "df.drop(['sma_20','upper_bb','lower_bb'], axis=1, inplace=True)"
      ],
      "metadata": {
        "id": "-yj1bEf5m6lI"
      },
      "execution_count": 13,
      "outputs": []
    },
    {
      "cell_type": "code",
      "source": [
        "df.fillna(0,inplace=True)\n",
        "df.tail()"
      ],
      "metadata": {
        "colab": {
          "base_uri": "https://localhost:8080/",
          "height": 206
        },
        "id": "vVhvFnvjmZo9",
        "outputId": "e1759a23-c486-4546-f4da-c61d87f483f1"
      },
      "execution_count": 14,
      "outputs": [
        {
          "output_type": "execute_result",
          "data": {
            "text/plain": [
              "            rsi      macd    SO_fast    SO_slow  DiffClose5_EMA  \\\n",
              "1253  50.708579 -4.753417  28.385110  23.191515        0.005410   \n",
              "1254  50.539711 -4.310890  44.311138  34.261449        0.017905   \n",
              "1255  50.379864 -3.644627  60.585741  44.427330        0.028172   \n",
              "1256  50.442945 -3.081091  60.585741  55.160873        0.018606   \n",
              "1257  51.086413 -2.941101  40.326492  53.832658       -0.007856   \n",
              "\n",
              "      DiffClose8_EMA  DiffClose13_EMA  DiffCloseUpper  DiffCloseLower  \n",
              "1253       -0.001676        -0.015706       19.821584        8.128593  \n",
              "1254        0.015380         0.004736       16.854561       11.210566  \n",
              "1255        0.031047         0.025068       13.521039       14.543045  \n",
              "1256        0.023982         0.021410       13.363290       14.597295  \n",
              "1257       -0.005080        -0.007739       16.448673       10.462674  "
            ],
            "text/html": [
              "\n",
              "  <div id=\"df-2dfb44b0-af6e-4d55-b613-3fc05b64bf54\">\n",
              "    <div class=\"colab-df-container\">\n",
              "      <div>\n",
              "<style scoped>\n",
              "    .dataframe tbody tr th:only-of-type {\n",
              "        vertical-align: middle;\n",
              "    }\n",
              "\n",
              "    .dataframe tbody tr th {\n",
              "        vertical-align: top;\n",
              "    }\n",
              "\n",
              "    .dataframe thead th {\n",
              "        text-align: right;\n",
              "    }\n",
              "</style>\n",
              "<table border=\"1\" class=\"dataframe\">\n",
              "  <thead>\n",
              "    <tr style=\"text-align: right;\">\n",
              "      <th></th>\n",
              "      <th>rsi</th>\n",
              "      <th>macd</th>\n",
              "      <th>SO_fast</th>\n",
              "      <th>SO_slow</th>\n",
              "      <th>DiffClose5_EMA</th>\n",
              "      <th>DiffClose8_EMA</th>\n",
              "      <th>DiffClose13_EMA</th>\n",
              "      <th>DiffCloseUpper</th>\n",
              "      <th>DiffCloseLower</th>\n",
              "    </tr>\n",
              "  </thead>\n",
              "  <tbody>\n",
              "    <tr>\n",
              "      <th>1253</th>\n",
              "      <td>50.708579</td>\n",
              "      <td>-4.753417</td>\n",
              "      <td>28.385110</td>\n",
              "      <td>23.191515</td>\n",
              "      <td>0.005410</td>\n",
              "      <td>-0.001676</td>\n",
              "      <td>-0.015706</td>\n",
              "      <td>19.821584</td>\n",
              "      <td>8.128593</td>\n",
              "    </tr>\n",
              "    <tr>\n",
              "      <th>1254</th>\n",
              "      <td>50.539711</td>\n",
              "      <td>-4.310890</td>\n",
              "      <td>44.311138</td>\n",
              "      <td>34.261449</td>\n",
              "      <td>0.017905</td>\n",
              "      <td>0.015380</td>\n",
              "      <td>0.004736</td>\n",
              "      <td>16.854561</td>\n",
              "      <td>11.210566</td>\n",
              "    </tr>\n",
              "    <tr>\n",
              "      <th>1255</th>\n",
              "      <td>50.379864</td>\n",
              "      <td>-3.644627</td>\n",
              "      <td>60.585741</td>\n",
              "      <td>44.427330</td>\n",
              "      <td>0.028172</td>\n",
              "      <td>0.031047</td>\n",
              "      <td>0.025068</td>\n",
              "      <td>13.521039</td>\n",
              "      <td>14.543045</td>\n",
              "    </tr>\n",
              "    <tr>\n",
              "      <th>1256</th>\n",
              "      <td>50.442945</td>\n",
              "      <td>-3.081091</td>\n",
              "      <td>60.585741</td>\n",
              "      <td>55.160873</td>\n",
              "      <td>0.018606</td>\n",
              "      <td>0.023982</td>\n",
              "      <td>0.021410</td>\n",
              "      <td>13.363290</td>\n",
              "      <td>14.597295</td>\n",
              "    </tr>\n",
              "    <tr>\n",
              "      <th>1257</th>\n",
              "      <td>51.086413</td>\n",
              "      <td>-2.941101</td>\n",
              "      <td>40.326492</td>\n",
              "      <td>53.832658</td>\n",
              "      <td>-0.007856</td>\n",
              "      <td>-0.005080</td>\n",
              "      <td>-0.007739</td>\n",
              "      <td>16.448673</td>\n",
              "      <td>10.462674</td>\n",
              "    </tr>\n",
              "  </tbody>\n",
              "</table>\n",
              "</div>\n",
              "      <button class=\"colab-df-convert\" onclick=\"convertToInteractive('df-2dfb44b0-af6e-4d55-b613-3fc05b64bf54')\"\n",
              "              title=\"Convert this dataframe to an interactive table.\"\n",
              "              style=\"display:none;\">\n",
              "        \n",
              "  <svg xmlns=\"http://www.w3.org/2000/svg\" height=\"24px\"viewBox=\"0 0 24 24\"\n",
              "       width=\"24px\">\n",
              "    <path d=\"M0 0h24v24H0V0z\" fill=\"none\"/>\n",
              "    <path d=\"M18.56 5.44l.94 2.06.94-2.06 2.06-.94-2.06-.94-.94-2.06-.94 2.06-2.06.94zm-11 1L8.5 8.5l.94-2.06 2.06-.94-2.06-.94L8.5 2.5l-.94 2.06-2.06.94zm10 10l.94 2.06.94-2.06 2.06-.94-2.06-.94-.94-2.06-.94 2.06-2.06.94z\"/><path d=\"M17.41 7.96l-1.37-1.37c-.4-.4-.92-.59-1.43-.59-.52 0-1.04.2-1.43.59L10.3 9.45l-7.72 7.72c-.78.78-.78 2.05 0 2.83L4 21.41c.39.39.9.59 1.41.59.51 0 1.02-.2 1.41-.59l7.78-7.78 2.81-2.81c.8-.78.8-2.07 0-2.86zM5.41 20L4 18.59l7.72-7.72 1.47 1.35L5.41 20z\"/>\n",
              "  </svg>\n",
              "      </button>\n",
              "      \n",
              "  <style>\n",
              "    .colab-df-container {\n",
              "      display:flex;\n",
              "      flex-wrap:wrap;\n",
              "      gap: 12px;\n",
              "    }\n",
              "\n",
              "    .colab-df-convert {\n",
              "      background-color: #E8F0FE;\n",
              "      border: none;\n",
              "      border-radius: 50%;\n",
              "      cursor: pointer;\n",
              "      display: none;\n",
              "      fill: #1967D2;\n",
              "      height: 32px;\n",
              "      padding: 0 0 0 0;\n",
              "      width: 32px;\n",
              "    }\n",
              "\n",
              "    .colab-df-convert:hover {\n",
              "      background-color: #E2EBFA;\n",
              "      box-shadow: 0px 1px 2px rgba(60, 64, 67, 0.3), 0px 1px 3px 1px rgba(60, 64, 67, 0.15);\n",
              "      fill: #174EA6;\n",
              "    }\n",
              "\n",
              "    [theme=dark] .colab-df-convert {\n",
              "      background-color: #3B4455;\n",
              "      fill: #D2E3FC;\n",
              "    }\n",
              "\n",
              "    [theme=dark] .colab-df-convert:hover {\n",
              "      background-color: #434B5C;\n",
              "      box-shadow: 0px 1px 3px 1px rgba(0, 0, 0, 0.15);\n",
              "      filter: drop-shadow(0px 1px 2px rgba(0, 0, 0, 0.3));\n",
              "      fill: #FFFFFF;\n",
              "    }\n",
              "  </style>\n",
              "\n",
              "      <script>\n",
              "        const buttonEl =\n",
              "          document.querySelector('#df-2dfb44b0-af6e-4d55-b613-3fc05b64bf54 button.colab-df-convert');\n",
              "        buttonEl.style.display =\n",
              "          google.colab.kernel.accessAllowed ? 'block' : 'none';\n",
              "\n",
              "        async function convertToInteractive(key) {\n",
              "          const element = document.querySelector('#df-2dfb44b0-af6e-4d55-b613-3fc05b64bf54');\n",
              "          const dataTable =\n",
              "            await google.colab.kernel.invokeFunction('convertToInteractive',\n",
              "                                                     [key], {});\n",
              "          if (!dataTable) return;\n",
              "\n",
              "          const docLinkHtml = 'Like what you see? Visit the ' +\n",
              "            '<a target=\"_blank\" href=https://colab.research.google.com/notebooks/data_table.ipynb>data table notebook</a>'\n",
              "            + ' to learn more about interactive tables.';\n",
              "          element.innerHTML = '';\n",
              "          dataTable['output_type'] = 'display_data';\n",
              "          await google.colab.output.renderOutput(dataTable, element);\n",
              "          const docLink = document.createElement('div');\n",
              "          docLink.innerHTML = docLinkHtml;\n",
              "          element.appendChild(docLink);\n",
              "        }\n",
              "      </script>\n",
              "    </div>\n",
              "  </div>\n",
              "  "
            ]
          },
          "metadata": {},
          "execution_count": 14
        }
      ]
    },
    {
      "cell_type": "markdown",
      "source": [
        "Encoding target variable:\n",
        "\n",
        "We are trying to predict the closing price of the following trading day into one of the following 4 bands:\n",
        "\n",
        "* adjClosePChange <-1%\n",
        "* -1% <= adjClosePChange < 0%\n",
        "* 0% <= adjClosePChange < 1%\n",
        "* 1% <= adjClosePChange\n"
      ],
      "metadata": {
        "id": "xw-HjymNCZaV"
      }
    },
    {
      "cell_type": "code",
      "source": [
        "AAPL_csv.head()"
      ],
      "metadata": {
        "colab": {
          "base_uri": "https://localhost:8080/",
          "height": 206
        },
        "id": "vScxEd-9IGeK",
        "outputId": "f2324bab-c988-4f89-9584-d6d634354f81"
      },
      "execution_count": 15,
      "outputs": [
        {
          "output_type": "execute_result",
          "data": {
            "text/plain": [
              "         Date       Open       High        Low      Close  Adj Close  \\\n",
              "0  2017-06-29  36.177502  36.282501  35.570000  35.919998  34.004253   \n",
              "1  2017-06-30  36.112499  36.240002  35.945000  36.005001  34.084721   \n",
              "2  2017-07-03  36.220001  36.325001  35.775002  35.875000  33.961651   \n",
              "3  2017-07-05  35.922501  36.197498  35.680000  36.022499  34.101276   \n",
              "4  2017-07-06  35.755001  35.875000  35.602501  35.682499  33.779408   \n",
              "\n",
              "      Volume  \n",
              "0  125997600  \n",
              "1   92096400  \n",
              "2   57111200  \n",
              "3   86278400  \n",
              "4   96515200  "
            ],
            "text/html": [
              "\n",
              "  <div id=\"df-3864e71b-5601-4794-98b2-d4ea282ac4f3\">\n",
              "    <div class=\"colab-df-container\">\n",
              "      <div>\n",
              "<style scoped>\n",
              "    .dataframe tbody tr th:only-of-type {\n",
              "        vertical-align: middle;\n",
              "    }\n",
              "\n",
              "    .dataframe tbody tr th {\n",
              "        vertical-align: top;\n",
              "    }\n",
              "\n",
              "    .dataframe thead th {\n",
              "        text-align: right;\n",
              "    }\n",
              "</style>\n",
              "<table border=\"1\" class=\"dataframe\">\n",
              "  <thead>\n",
              "    <tr style=\"text-align: right;\">\n",
              "      <th></th>\n",
              "      <th>Date</th>\n",
              "      <th>Open</th>\n",
              "      <th>High</th>\n",
              "      <th>Low</th>\n",
              "      <th>Close</th>\n",
              "      <th>Adj Close</th>\n",
              "      <th>Volume</th>\n",
              "    </tr>\n",
              "  </thead>\n",
              "  <tbody>\n",
              "    <tr>\n",
              "      <th>0</th>\n",
              "      <td>2017-06-29</td>\n",
              "      <td>36.177502</td>\n",
              "      <td>36.282501</td>\n",
              "      <td>35.570000</td>\n",
              "      <td>35.919998</td>\n",
              "      <td>34.004253</td>\n",
              "      <td>125997600</td>\n",
              "    </tr>\n",
              "    <tr>\n",
              "      <th>1</th>\n",
              "      <td>2017-06-30</td>\n",
              "      <td>36.112499</td>\n",
              "      <td>36.240002</td>\n",
              "      <td>35.945000</td>\n",
              "      <td>36.005001</td>\n",
              "      <td>34.084721</td>\n",
              "      <td>92096400</td>\n",
              "    </tr>\n",
              "    <tr>\n",
              "      <th>2</th>\n",
              "      <td>2017-07-03</td>\n",
              "      <td>36.220001</td>\n",
              "      <td>36.325001</td>\n",
              "      <td>35.775002</td>\n",
              "      <td>35.875000</td>\n",
              "      <td>33.961651</td>\n",
              "      <td>57111200</td>\n",
              "    </tr>\n",
              "    <tr>\n",
              "      <th>3</th>\n",
              "      <td>2017-07-05</td>\n",
              "      <td>35.922501</td>\n",
              "      <td>36.197498</td>\n",
              "      <td>35.680000</td>\n",
              "      <td>36.022499</td>\n",
              "      <td>34.101276</td>\n",
              "      <td>86278400</td>\n",
              "    </tr>\n",
              "    <tr>\n",
              "      <th>4</th>\n",
              "      <td>2017-07-06</td>\n",
              "      <td>35.755001</td>\n",
              "      <td>35.875000</td>\n",
              "      <td>35.602501</td>\n",
              "      <td>35.682499</td>\n",
              "      <td>33.779408</td>\n",
              "      <td>96515200</td>\n",
              "    </tr>\n",
              "  </tbody>\n",
              "</table>\n",
              "</div>\n",
              "      <button class=\"colab-df-convert\" onclick=\"convertToInteractive('df-3864e71b-5601-4794-98b2-d4ea282ac4f3')\"\n",
              "              title=\"Convert this dataframe to an interactive table.\"\n",
              "              style=\"display:none;\">\n",
              "        \n",
              "  <svg xmlns=\"http://www.w3.org/2000/svg\" height=\"24px\"viewBox=\"0 0 24 24\"\n",
              "       width=\"24px\">\n",
              "    <path d=\"M0 0h24v24H0V0z\" fill=\"none\"/>\n",
              "    <path d=\"M18.56 5.44l.94 2.06.94-2.06 2.06-.94-2.06-.94-.94-2.06-.94 2.06-2.06.94zm-11 1L8.5 8.5l.94-2.06 2.06-.94-2.06-.94L8.5 2.5l-.94 2.06-2.06.94zm10 10l.94 2.06.94-2.06 2.06-.94-2.06-.94-.94-2.06-.94 2.06-2.06.94z\"/><path d=\"M17.41 7.96l-1.37-1.37c-.4-.4-.92-.59-1.43-.59-.52 0-1.04.2-1.43.59L10.3 9.45l-7.72 7.72c-.78.78-.78 2.05 0 2.83L4 21.41c.39.39.9.59 1.41.59.51 0 1.02-.2 1.41-.59l7.78-7.78 2.81-2.81c.8-.78.8-2.07 0-2.86zM5.41 20L4 18.59l7.72-7.72 1.47 1.35L5.41 20z\"/>\n",
              "  </svg>\n",
              "      </button>\n",
              "      \n",
              "  <style>\n",
              "    .colab-df-container {\n",
              "      display:flex;\n",
              "      flex-wrap:wrap;\n",
              "      gap: 12px;\n",
              "    }\n",
              "\n",
              "    .colab-df-convert {\n",
              "      background-color: #E8F0FE;\n",
              "      border: none;\n",
              "      border-radius: 50%;\n",
              "      cursor: pointer;\n",
              "      display: none;\n",
              "      fill: #1967D2;\n",
              "      height: 32px;\n",
              "      padding: 0 0 0 0;\n",
              "      width: 32px;\n",
              "    }\n",
              "\n",
              "    .colab-df-convert:hover {\n",
              "      background-color: #E2EBFA;\n",
              "      box-shadow: 0px 1px 2px rgba(60, 64, 67, 0.3), 0px 1px 3px 1px rgba(60, 64, 67, 0.15);\n",
              "      fill: #174EA6;\n",
              "    }\n",
              "\n",
              "    [theme=dark] .colab-df-convert {\n",
              "      background-color: #3B4455;\n",
              "      fill: #D2E3FC;\n",
              "    }\n",
              "\n",
              "    [theme=dark] .colab-df-convert:hover {\n",
              "      background-color: #434B5C;\n",
              "      box-shadow: 0px 1px 3px 1px rgba(0, 0, 0, 0.15);\n",
              "      filter: drop-shadow(0px 1px 2px rgba(0, 0, 0, 0.3));\n",
              "      fill: #FFFFFF;\n",
              "    }\n",
              "  </style>\n",
              "\n",
              "      <script>\n",
              "        const buttonEl =\n",
              "          document.querySelector('#df-3864e71b-5601-4794-98b2-d4ea282ac4f3 button.colab-df-convert');\n",
              "        buttonEl.style.display =\n",
              "          google.colab.kernel.accessAllowed ? 'block' : 'none';\n",
              "\n",
              "        async function convertToInteractive(key) {\n",
              "          const element = document.querySelector('#df-3864e71b-5601-4794-98b2-d4ea282ac4f3');\n",
              "          const dataTable =\n",
              "            await google.colab.kernel.invokeFunction('convertToInteractive',\n",
              "                                                     [key], {});\n",
              "          if (!dataTable) return;\n",
              "\n",
              "          const docLinkHtml = 'Like what you see? Visit the ' +\n",
              "            '<a target=\"_blank\" href=https://colab.research.google.com/notebooks/data_table.ipynb>data table notebook</a>'\n",
              "            + ' to learn more about interactive tables.';\n",
              "          element.innerHTML = '';\n",
              "          dataTable['output_type'] = 'display_data';\n",
              "          await google.colab.output.renderOutput(dataTable, element);\n",
              "          const docLink = document.createElement('div');\n",
              "          docLink.innerHTML = docLinkHtml;\n",
              "          element.appendChild(docLink);\n",
              "        }\n",
              "      </script>\n",
              "    </div>\n",
              "  </div>\n",
              "  "
            ]
          },
          "metadata": {},
          "execution_count": 15
        }
      ]
    },
    {
      "cell_type": "code",
      "source": [
        "AAPL_csv['Adj Close'].pct_change(1).shift(0).fillna(0)"
      ],
      "metadata": {
        "colab": {
          "base_uri": "https://localhost:8080/"
        },
        "id": "r0hIcWYBIOmo",
        "outputId": "9ef6e569-f831-45fb-d1e0-6bf6cc168639"
      },
      "execution_count": 16,
      "outputs": [
        {
          "output_type": "execute_result",
          "data": {
            "text/plain": [
              "0       0.000000\n",
              "1       0.002366\n",
              "2      -0.003611\n",
              "3       0.004111\n",
              "4      -0.009439\n",
              "          ...   \n",
              "1253   -0.003827\n",
              "1254    0.021574\n",
              "1255    0.024517\n",
              "1256    0.000000\n",
              "1257   -0.029790\n",
              "Name: Adj Close, Length: 1258, dtype: float64"
            ]
          },
          "metadata": {},
          "execution_count": 16
        }
      ]
    },
    {
      "cell_type": "code",
      "source": [
        "change = []\n",
        "adj_close_change = AAPL_csv['Adj Close'].pct_change(1).shift(0).fillna(0)\n",
        "\n",
        "for i in adj_close_change:\n",
        "  if i < -0.01:\n",
        "    change.append(0)\n",
        "  elif -0.01 <= i <=0:\n",
        "    change.append(1)\n",
        "  elif 0 < i <= 0.01:\n",
        "    change.append(2)\n",
        "  else:\n",
        "    change.append(3)\n",
        "\n",
        "df[\"Change\"] = np.array(change)"
      ],
      "metadata": {
        "id": "rZq9bI4jCXys"
      },
      "execution_count": 17,
      "outputs": []
    },
    {
      "cell_type": "code",
      "source": [
        "df.head()"
      ],
      "metadata": {
        "colab": {
          "base_uri": "https://localhost:8080/",
          "height": 206
        },
        "id": "rXVOX39HJRwb",
        "outputId": "f36af894-3111-43e0-ecc4-80117275ae19"
      },
      "execution_count": 18,
      "outputs": [
        {
          "output_type": "execute_result",
          "data": {
            "text/plain": [
              "         rsi      macd  SO_fast  SO_slow  DiffClose5_EMA  DiffClose8_EMA  \\\n",
              "0  50.495808  0.000000      0.0      0.0        0.000000        0.000000   \n",
              "1  50.204337  0.006781      0.0      0.0        0.001576        0.001840   \n",
              "2  50.381414  0.001646      0.0      0.0       -0.001361       -0.001383   \n",
              "3  50.359986  0.009370      0.0      0.0        0.001828        0.002116   \n",
              "4  50.190619 -0.011807      0.0      0.0       -0.005098       -0.005720   \n",
              "\n",
              "   DiffClose13_EMA  DiffCloseUpper  DiffCloseLower  Change  \n",
              "0         0.000000             0.0             0.0       1  \n",
              "1         0.002028             0.0             0.0       2  \n",
              "2        -0.001363             0.0             0.0       1  \n",
              "3         0.002350             0.0             0.0       2  \n",
              "4        -0.006102             0.0             0.0       1  "
            ],
            "text/html": [
              "\n",
              "  <div id=\"df-985da21e-243f-4afa-8b64-a148a335aa5b\">\n",
              "    <div class=\"colab-df-container\">\n",
              "      <div>\n",
              "<style scoped>\n",
              "    .dataframe tbody tr th:only-of-type {\n",
              "        vertical-align: middle;\n",
              "    }\n",
              "\n",
              "    .dataframe tbody tr th {\n",
              "        vertical-align: top;\n",
              "    }\n",
              "\n",
              "    .dataframe thead th {\n",
              "        text-align: right;\n",
              "    }\n",
              "</style>\n",
              "<table border=\"1\" class=\"dataframe\">\n",
              "  <thead>\n",
              "    <tr style=\"text-align: right;\">\n",
              "      <th></th>\n",
              "      <th>rsi</th>\n",
              "      <th>macd</th>\n",
              "      <th>SO_fast</th>\n",
              "      <th>SO_slow</th>\n",
              "      <th>DiffClose5_EMA</th>\n",
              "      <th>DiffClose8_EMA</th>\n",
              "      <th>DiffClose13_EMA</th>\n",
              "      <th>DiffCloseUpper</th>\n",
              "      <th>DiffCloseLower</th>\n",
              "      <th>Change</th>\n",
              "    </tr>\n",
              "  </thead>\n",
              "  <tbody>\n",
              "    <tr>\n",
              "      <th>0</th>\n",
              "      <td>50.495808</td>\n",
              "      <td>0.000000</td>\n",
              "      <td>0.0</td>\n",
              "      <td>0.0</td>\n",
              "      <td>0.000000</td>\n",
              "      <td>0.000000</td>\n",
              "      <td>0.000000</td>\n",
              "      <td>0.0</td>\n",
              "      <td>0.0</td>\n",
              "      <td>1</td>\n",
              "    </tr>\n",
              "    <tr>\n",
              "      <th>1</th>\n",
              "      <td>50.204337</td>\n",
              "      <td>0.006781</td>\n",
              "      <td>0.0</td>\n",
              "      <td>0.0</td>\n",
              "      <td>0.001576</td>\n",
              "      <td>0.001840</td>\n",
              "      <td>0.002028</td>\n",
              "      <td>0.0</td>\n",
              "      <td>0.0</td>\n",
              "      <td>2</td>\n",
              "    </tr>\n",
              "    <tr>\n",
              "      <th>2</th>\n",
              "      <td>50.381414</td>\n",
              "      <td>0.001646</td>\n",
              "      <td>0.0</td>\n",
              "      <td>0.0</td>\n",
              "      <td>-0.001361</td>\n",
              "      <td>-0.001383</td>\n",
              "      <td>-0.001363</td>\n",
              "      <td>0.0</td>\n",
              "      <td>0.0</td>\n",
              "      <td>1</td>\n",
              "    </tr>\n",
              "    <tr>\n",
              "      <th>3</th>\n",
              "      <td>50.359986</td>\n",
              "      <td>0.009370</td>\n",
              "      <td>0.0</td>\n",
              "      <td>0.0</td>\n",
              "      <td>0.001828</td>\n",
              "      <td>0.002116</td>\n",
              "      <td>0.002350</td>\n",
              "      <td>0.0</td>\n",
              "      <td>0.0</td>\n",
              "      <td>2</td>\n",
              "    </tr>\n",
              "    <tr>\n",
              "      <th>4</th>\n",
              "      <td>50.190619</td>\n",
              "      <td>-0.011807</td>\n",
              "      <td>0.0</td>\n",
              "      <td>0.0</td>\n",
              "      <td>-0.005098</td>\n",
              "      <td>-0.005720</td>\n",
              "      <td>-0.006102</td>\n",
              "      <td>0.0</td>\n",
              "      <td>0.0</td>\n",
              "      <td>1</td>\n",
              "    </tr>\n",
              "  </tbody>\n",
              "</table>\n",
              "</div>\n",
              "      <button class=\"colab-df-convert\" onclick=\"convertToInteractive('df-985da21e-243f-4afa-8b64-a148a335aa5b')\"\n",
              "              title=\"Convert this dataframe to an interactive table.\"\n",
              "              style=\"display:none;\">\n",
              "        \n",
              "  <svg xmlns=\"http://www.w3.org/2000/svg\" height=\"24px\"viewBox=\"0 0 24 24\"\n",
              "       width=\"24px\">\n",
              "    <path d=\"M0 0h24v24H0V0z\" fill=\"none\"/>\n",
              "    <path d=\"M18.56 5.44l.94 2.06.94-2.06 2.06-.94-2.06-.94-.94-2.06-.94 2.06-2.06.94zm-11 1L8.5 8.5l.94-2.06 2.06-.94-2.06-.94L8.5 2.5l-.94 2.06-2.06.94zm10 10l.94 2.06.94-2.06 2.06-.94-2.06-.94-.94-2.06-.94 2.06-2.06.94z\"/><path d=\"M17.41 7.96l-1.37-1.37c-.4-.4-.92-.59-1.43-.59-.52 0-1.04.2-1.43.59L10.3 9.45l-7.72 7.72c-.78.78-.78 2.05 0 2.83L4 21.41c.39.39.9.59 1.41.59.51 0 1.02-.2 1.41-.59l7.78-7.78 2.81-2.81c.8-.78.8-2.07 0-2.86zM5.41 20L4 18.59l7.72-7.72 1.47 1.35L5.41 20z\"/>\n",
              "  </svg>\n",
              "      </button>\n",
              "      \n",
              "  <style>\n",
              "    .colab-df-container {\n",
              "      display:flex;\n",
              "      flex-wrap:wrap;\n",
              "      gap: 12px;\n",
              "    }\n",
              "\n",
              "    .colab-df-convert {\n",
              "      background-color: #E8F0FE;\n",
              "      border: none;\n",
              "      border-radius: 50%;\n",
              "      cursor: pointer;\n",
              "      display: none;\n",
              "      fill: #1967D2;\n",
              "      height: 32px;\n",
              "      padding: 0 0 0 0;\n",
              "      width: 32px;\n",
              "    }\n",
              "\n",
              "    .colab-df-convert:hover {\n",
              "      background-color: #E2EBFA;\n",
              "      box-shadow: 0px 1px 2px rgba(60, 64, 67, 0.3), 0px 1px 3px 1px rgba(60, 64, 67, 0.15);\n",
              "      fill: #174EA6;\n",
              "    }\n",
              "\n",
              "    [theme=dark] .colab-df-convert {\n",
              "      background-color: #3B4455;\n",
              "      fill: #D2E3FC;\n",
              "    }\n",
              "\n",
              "    [theme=dark] .colab-df-convert:hover {\n",
              "      background-color: #434B5C;\n",
              "      box-shadow: 0px 1px 3px 1px rgba(0, 0, 0, 0.15);\n",
              "      filter: drop-shadow(0px 1px 2px rgba(0, 0, 0, 0.3));\n",
              "      fill: #FFFFFF;\n",
              "    }\n",
              "  </style>\n",
              "\n",
              "      <script>\n",
              "        const buttonEl =\n",
              "          document.querySelector('#df-985da21e-243f-4afa-8b64-a148a335aa5b button.colab-df-convert');\n",
              "        buttonEl.style.display =\n",
              "          google.colab.kernel.accessAllowed ? 'block' : 'none';\n",
              "\n",
              "        async function convertToInteractive(key) {\n",
              "          const element = document.querySelector('#df-985da21e-243f-4afa-8b64-a148a335aa5b');\n",
              "          const dataTable =\n",
              "            await google.colab.kernel.invokeFunction('convertToInteractive',\n",
              "                                                     [key], {});\n",
              "          if (!dataTable) return;\n",
              "\n",
              "          const docLinkHtml = 'Like what you see? Visit the ' +\n",
              "            '<a target=\"_blank\" href=https://colab.research.google.com/notebooks/data_table.ipynb>data table notebook</a>'\n",
              "            + ' to learn more about interactive tables.';\n",
              "          element.innerHTML = '';\n",
              "          dataTable['output_type'] = 'display_data';\n",
              "          await google.colab.output.renderOutput(dataTable, element);\n",
              "          const docLink = document.createElement('div');\n",
              "          docLink.innerHTML = docLinkHtml;\n",
              "          element.appendChild(docLink);\n",
              "        }\n",
              "      </script>\n",
              "    </div>\n",
              "  </div>\n",
              "  "
            ]
          },
          "metadata": {},
          "execution_count": 18
        }
      ]
    },
    {
      "cell_type": "code",
      "source": [
        "df['Change'].unique()"
      ],
      "metadata": {
        "colab": {
          "base_uri": "https://localhost:8080/"
        },
        "id": "tIs7a0btEDGi",
        "outputId": "597c3eef-06bf-4181-d17b-147b87435b16"
      },
      "execution_count": 19,
      "outputs": [
        {
          "output_type": "execute_result",
          "data": {
            "text/plain": [
              "array([1, 2, 3, 0])"
            ]
          },
          "metadata": {},
          "execution_count": 19
        }
      ]
    },
    {
      "cell_type": "code",
      "source": [
        "plt.figure(figsize=(10,10))\n",
        "sns.heatmap(df.corr(), annot=True)"
      ],
      "metadata": {
        "colab": {
          "base_uri": "https://localhost:8080/",
          "height": 687
        },
        "id": "QpJsiud5N4Vk",
        "outputId": "31c8a23a-955e-45e6-c77b-0508f385979b"
      },
      "execution_count": 20,
      "outputs": [
        {
          "output_type": "execute_result",
          "data": {
            "text/plain": [
              "<matplotlib.axes._subplots.AxesSubplot at 0x7f57615098d0>"
            ]
          },
          "metadata": {},
          "execution_count": 20
        },
        {
          "output_type": "display_data",
          "data": {
            "text/plain": [
              "<Figure size 720x720 with 2 Axes>"
            ],
            "image/png": "[encoded data removed]"
          },
          "metadata": {
            "needs_background": "light"
          }
        }
      ]
    },
    {
      "cell_type": "code",
      "source": [
        "# DK 20220810\n",
        "from sklearn.model_selection import train_test_split\n",
        "\n",
        "X = df.iloc[:,:-1]\n",
        "y = df['Change']\n",
        "# 70% training data, 30% testing data\n",
        "X_train, X_test, y_train, y_test = train_test_split(X, y, test_size = 0.3, random_state = 42) \n"
      ],
      "metadata": {
        "id": "TSgARk04p7WY"
      },
      "execution_count": 21,
      "outputs": []
    },
    {
      "cell_type": "markdown",
      "source": [
        "# Model Selection"
      ],
      "metadata": {
        "id": "Rea9TspYacGf"
      }
    },
    {
      "cell_type": "markdown",
      "source": [
        "KNN"
      ],
      "metadata": {
        "id": "L5fbyCzVbjfn"
      }
    },
    {
      "cell_type": "markdown",
      "source": [
        "Try adjusting the following hyperparammeter:\n",
        "\n",
        "- n_neighbors\n",
        "- leaf_size\n",
        "- p value"
      ],
      "metadata": {
        "id": "Nzzg3p4eWd2o"
      }
    },
    {
      "cell_type": "code",
      "source": [
        "#Understanding data distribution\n",
        "sns.countplot(df['Change'])"
      ],
      "metadata": {
        "colab": {
          "base_uri": "https://localhost:8080/",
          "height": 351
        },
        "id": "OK7g87IxROFb",
        "outputId": "aee73ee8-e944-4751-90ca-d094b90b62e7"
      },
      "execution_count": null,
      "outputs": [
        {
          "output_type": "stream",
          "name": "stderr",
          "text": [
            "/usr/local/lib/python3.7/dist-packages/seaborn/_decorators.py:43: FutureWarning: Pass the following variable as a keyword arg: x. From version 0.12, the only valid positional argument will be `data`, and passing other arguments without an explicit keyword will result in an error or misinterpretation.\n",
            "  FutureWarning\n"
          ]
        },
        {
          "output_type": "execute_result",
          "data": {
            "text/plain": [
              "<matplotlib.axes._subplots.AxesSubplot at 0x7f25ee927850>"
            ]
          },
          "metadata": {},
          "execution_count": 20
        },
        {
          "output_type": "display_data",
          "data": {
            "text/plain": [
              "<Figure size 432x288 with 1 Axes>"
            ],
            "image/png": "[encoded data removed]"
          },
          "metadata": {
            "needs_background": "light"
          }
        }
      ]
    },
    {
      "cell_type": "code",
      "source": [
        "from sklearn.model_selection import RandomizedSearchCV\n",
        "from sklearn.model_selection import GridSearchCV\n",
        "from sklearn.neighbors import KNeighborsClassifier\n",
        "from sklearn import neighbors\n",
        "\n",
        "#Tuning hyperparameters\n",
        "leaf_size = list(range(1,50))\n",
        "n_neighbors = list(range(1,30))\n",
        "p=[1,2]\n",
        "\n",
        "#Convert to dictionary\n",
        "hyperparameters = dict(leaf_size=leaf_size, n_neighbors=n_neighbors, p=p)\n",
        "\n",
        "#Create new KNN object\n",
        "knn_2 = KNeighborsClassifier()\n",
        "\n",
        "#Use GridSearch\n",
        "clf = GridSearchCV(knn_2, hyperparameters, cv=10)\n",
        "\n",
        "#Fit the model\n",
        "best_model = clf.fit(X_train,y_train)\n",
        "\n",
        "#Print The value of best Hyperparameters\n",
        "print('Best leaf_size:', best_model.best_estimator_.get_params()['leaf_size'])\n",
        "print('Best p:', best_model.best_estimator_.get_params()['p'])\n",
        "print('Best n_neighbors:', best_model.best_estimator_.get_params()['n_neighbors'])\n",
        "\n",
        "\n",
        "# Training classifiers\n",
        "#knn = neighbors.KNeighborsClassifier(n_neighbors=5)\n",
        "#knn.fit(X_train, y_train)\n"
      ],
      "metadata": {
        "id": "7wiRk6qjatvD",
        "colab": {
          "base_uri": "https://localhost:8080/"
        },
        "outputId": "8401f0a5-682f-4753-c39c-431717896350"
      },
      "execution_count": null,
      "outputs": [
        {
          "output_type": "stream",
          "name": "stdout",
          "text": [
            "Best leaf_size: 1\n",
            "Best p: 2\n",
            "Best n_neighbors: 8\n"
          ]
        }
      ]
    },
    {
      "cell_type": "code",
      "source": [
        "from sklearn.metrics import roc_auc_score\n",
        "from sklearn.metrics import classification_report\n",
        "y_pred = best_model.predict(X_test)\n",
        "y_pred_proba = best_model.predict_proba(X_test)\n",
        "\n",
        "#Checking performance our model with classification report.\n",
        "print(classification_report(y_test, y_pred))\n",
        "#Checking performance our model with ROC Score.\n",
        "roc_auc_score(y_test, y_pred_proba, multi_class='ovr')"
      ],
      "metadata": {
        "colab": {
          "base_uri": "https://localhost:8080/"
        },
        "id": "iGKlsTKas31L",
        "outputId": "5b6e41f9-3cf3-4e53-9bf0-94784e6a1714"
      },
      "execution_count": null,
      "outputs": [
        {
          "output_type": "stream",
          "name": "stdout",
          "text": [
            "              precision    recall  f1-score   support\n",
            "\n",
            "           0       0.74      0.78      0.76        76\n",
            "           1       0.46      0.49      0.48        87\n",
            "           2       0.41      0.40      0.41        98\n",
            "           3       0.71      0.68      0.69       117\n",
            "\n",
            "    accuracy                           0.58       378\n",
            "   macro avg       0.58      0.59      0.58       378\n",
            "weighted avg       0.58      0.58      0.58       378\n",
            "\n"
          ]
        },
        {
          "output_type": "execute_result",
          "data": {
            "text/plain": [
              "0.8070144861893384"
            ]
          },
          "metadata": {},
          "execution_count": 22
        }
      ]
    },
    {
      "cell_type": "code",
      "source": [
        "# confusion matrix\n",
        "from sklearn.metrics import plot_confusion_matrix\n",
        "plot_confusion_matrix(best_model, X_test, y_test)"
      ],
      "metadata": {
        "colab": {
          "base_uri": "https://localhost:8080/",
          "height": 351
        },
        "id": "eTIkh7Eqw5EQ",
        "outputId": "2dc51c09-d114-4f3e-cf70-f7cd41fa5acd"
      },
      "execution_count": null,
      "outputs": [
        {
          "output_type": "stream",
          "name": "stderr",
          "text": [
            "/usr/local/lib/python3.7/dist-packages/sklearn/utils/deprecation.py:87: FutureWarning: Function plot_confusion_matrix is deprecated; Function `plot_confusion_matrix` is deprecated in 1.0 and will be removed in 1.2. Use one of the class methods: ConfusionMatrixDisplay.from_predictions or ConfusionMatrixDisplay.from_estimator.\n",
            "  warnings.warn(msg, category=FutureWarning)\n"
          ]
        },
        {
          "output_type": "execute_result",
          "data": {
            "text/plain": [
              "<sklearn.metrics._plot.confusion_matrix.ConfusionMatrixDisplay at 0x7f25ee451110>"
            ]
          },
          "metadata": {},
          "execution_count": 23
        },
        {
          "output_type": "display_data",
          "data": {
            "text/plain": [
              "<Figure size 432x288 with 2 Axes>"
            ],
            "image/png": "[encoded data removed]"
          },
          "metadata": {
            "needs_background": "light"
          }
        }
      ]
    },
    {
      "cell_type": "code",
      "source": [
        "# error of train and testing data\n",
        "error_test = 1-best_model.score(X_test,y_test)\n",
        "error_train = 1-best_model.score(X_train,y_train)\n",
        "print(\"The error of training dataset is\", error_train)\n",
        "print(\"The error of testing dataset is\", error_test)"
      ],
      "metadata": {
        "colab": {
          "base_uri": "https://localhost:8080/"
        },
        "id": "WUgFryiY3smc",
        "outputId": "467629d7-fa09-47f7-e6d5-bd671d0cf684"
      },
      "execution_count": null,
      "outputs": [
        {
          "output_type": "stream",
          "name": "stdout",
          "text": [
            "The error of training dataset is 0.3352272727272727\n",
            "The error of testing dataset is 0.417989417989418\n"
          ]
        }
      ]
    },
    {
      "cell_type": "code",
      "source": [
        "# calculate the p-value\n",
        "positions2 = np.where(clf.predict(X_test)> 0,1,-1 ) \n",
        "detrended_open = detrendPrice(AAPL_csv['Open'][1000:])\n",
        "detrended_retFut1 = detrended_open.pct_change(periods=1).shift(-1).fillna(0)\n",
        "detrended_syst_rets = detrended_retFut1 * pd.Series(positions2).fillna(0)\n",
        "bootstrap(detrended_syst_rets)"
      ],
      "metadata": {
        "colab": {
          "base_uri": "https://localhost:8080/",
          "height": 352
        },
        "id": "HBLUqqxOu4do",
        "outputId": "4a601716-e337-49ad-aefb-9b8800c473dd"
      },
      "execution_count": null,
      "outputs": [
        {
          "output_type": "stream",
          "name": "stdout",
          "text": [
            "average return -0.004016\n",
            "[-0.01525657  0.01631048]\n",
            "Do not reject Ho = The population distribution of rule returns has an expected value of zero or less (because p_value is not small enough)\n",
            "p_value:\n",
            "0.6996\n"
          ]
        },
        {
          "output_type": "display_data",
          "data": {
            "text/plain": [
              "<Figure size 432x288 with 1 Axes>"
            ],
            "image/png": "[encoded data removed]"
          },
          "metadata": {
            "needs_background": "light"
          }
        }
      ]
    },
    {
      "cell_type": "markdown",
      "source": [
        "Random Forest"
      ],
      "metadata": {
        "id": "5hk0RB1ebokr"
      }
    },
    {
      "cell_type": "markdown",
      "source": [
        "Try adjusting the following hyperparammeters:\n",
        "- n_estimators\n",
        "- max_features\n",
        "- min_samples_leaf\n",
        "\n",
        "https://medium.com/towards-data-science/hyperparameter-tuning-the-random-forest-in-python-using-scikit-learn-28d2aa77dd74"
      ],
      "metadata": {
        "id": "LS5TxdqxP3LJ"
      }
    },
    {
      "cell_type": "code",
      "source": [
        "# DK\n",
        "from sklearn.model_selection import RandomizedSearchCV\n",
        "#from sklearn.model_selection import GridSearchCV\n",
        "from sklearn.ensemble import RandomForestClassifier\n",
        "\n",
        "# Params\n",
        "# estimator, param_distributions, n_iter, scoring, n_jobs, refit, cv, verbose, pre_dispatch, random_state, error_score, return_train_score\n",
        "\n",
        "# Number of trees in random forest\n",
        "n_estimators = [int(x) for x in np.linspace(start = 10, stop = 200, num = 10)]\n",
        "# Number of features to consider at every split\n",
        "max_features = ['auto', 'sqrt']\n",
        "# Minimum number of samples required at each leaf node\n",
        "min_samples_leaf = [4, 10, 15]\n",
        "# Create the random grid\n",
        "random_grid = {'n_estimators': n_estimators,\n",
        "               'max_features': max_features,\n",
        "               'min_samples_leaf': min_samples_leaf}\n",
        "\n",
        "# First create the base model to tune\n",
        "RF = RandomForestClassifier()\n",
        "# Random search of parameters, using 5 fold cross validation, \n",
        "# search across 60 different combinations, and use all available cores\n",
        "RF_random = RandomizedSearchCV(estimator = RF, param_distributions = random_grid, n_iter = 60, cv = 5, random_state = 42)\n",
        "\n",
        "# Fit the random search model\n",
        "RF_random.fit(X_train, y_train)\n",
        "\n",
        "print ('Random grid: ', random_grid)\n",
        "\n",
        "# Best Parameters\n",
        "print ('Best Parameters: ', RF_random.best_params_)"
      ],
      "metadata": {
        "id": "QjPBOVVNbrsa",
        "colab": {
          "base_uri": "https://localhost:8080/"
        },
        "outputId": "73153ab6-8313-469a-a3c4-3b185040e039"
      },
      "execution_count": 22,
      "outputs": [
        {
          "output_type": "stream",
          "name": "stdout",
          "text": [
            "Random grid:  {'n_estimators': [10, 31, 52, 73, 94, 115, 136, 157, 178, 200], 'max_features': ['auto', 'sqrt'], 'min_samples_leaf': [4, 10, 15]}\n",
            "Best Parameters:  {'n_estimators': 200, 'min_samples_leaf': 4, 'max_features': 'sqrt'}\n"
          ]
        }
      ]
    },
    {
      "cell_type": "code",
      "source": [
        "# DK\n",
        "RF_best = RandomForestClassifier(n_estimators = 115, min_samples_split = 4, max_features = 'auto') \n",
        "RF_best.fit(X_train, y_train) \n",
        "y_pred_train_RF = RF_best.predict(X_train)\n",
        "y_pred_test_RF = RF_best.predict(X_test)\n",
        "\n",
        "feature_importance_RF = RF_best.feature_importances_\n",
        "plt.figure(figsize = (16,8))\n",
        "\n",
        "# Create plot title\n",
        "plt.title(\"Feature Importance of Random Forest\")\n",
        "\n",
        "# Add bars\n",
        "plt.bar(range(X_train.shape[1]),  feature_importance_RF)\n",
        "\n",
        "# Add feature names as x-axis labels\n",
        "plt.xticks(range(X_train.shape[1]), X_train.columns, rotation = 45)\n",
        "\n",
        "# Show plot\n",
        "plt.show()"
      ],
      "metadata": {
        "colab": {
          "base_uri": "https://localhost:8080/",
          "height": 556
        },
        "id": "py_izQDk9DnK",
        "outputId": "aaf32a03-1e9e-4baf-9e75-8cdc30d3d885"
      },
      "execution_count": 33,
      "outputs": [
        {
          "output_type": "display_data",
          "data": {
            "text/plain": [
              "<Figure size 1152x576 with 1 Axes>"
            ],
            "image/png": "[encoded data removed]"
          },
          "metadata": {
            "needs_background": "light"
          }
        }
      ]
    },
    {
      "cell_type": "code",
      "source": [
        "# DK\n",
        "from sklearn.model_selection import validation_curve\n",
        "\n",
        "# Create range of values for parameter\n",
        "param_range = np.arange(1, 60, 1)\n",
        "\n",
        "# Plot the graph of validation vs training scores\n",
        "train_scores, val_scores = validation_curve(\n",
        "    RandomForestClassifier(),\n",
        "    X_train, y_train,\n",
        "    param_name = \"n_estimators\",\n",
        "    param_range = param_range,\n",
        "    cv = 5,\n",
        "    scoring = \"accuracy\",\n",
        "    n_jobs = -1\n",
        ")\n",
        "\n",
        "# Calculate mean and standard deviation for training set scores\n",
        "train_mean = np.mean(train_scores, axis = 1)\n",
        "train_std = np.std(train_scores, axis = 1)\n",
        "\n",
        "# Calculate mean and standard deviation for validation set scores\n",
        "val_mean = np.mean(val_scores, axis = 1)\n",
        "val_std = np.std(val_scores, axis = 1)\n",
        "\n",
        "# Plot mean accuracy scores for training and validation sets in the aspect of n_estimators\n",
        "fig=plt.figure(figsize=(12,4))\n",
        "fig.add_subplot(1,2,1)\n",
        "plt.plot(param_range, train_mean, label=\"Training Scores\", color = \"blue\")\n",
        "plt.plot(param_range, val_mean, label=\"Validation Scores\", color = \"green\")\n",
        "\n",
        "# Plot accurancy bands for training and validation sets\n",
        "plt.fill_between(param_range, train_mean - train_std, train_mean + train_std, color = \"blue\")\n",
        "plt.fill_between(param_range, val_mean - val_std, val_mean + val_std, color = \"green\")\n",
        "\n",
        "# Create plot\n",
        "plt.title(\"Accuracy Scores of Random Forest\")\n",
        "plt.xlabel(\"Number Of Trees\")\n",
        "plt.ylabel(\"Accuracy Score\")\n",
        "plt.legend(loc = \"best\")\n",
        "\n",
        "#Plot the graph of val_mean vs train_mean\n",
        "fig.add_subplot(1,2,2)\n",
        "plt.plot(train_mean, val_mean, color = 'magenta')\n",
        "plt.title(\"Validation Mean vs. Train Mean\")\n",
        "plt.xlabel(\"Train Mean Values\")\n",
        "plt.ylabel(\"Validation Mean Values\")\n",
        "plt.show()"
      ],
      "metadata": {
        "colab": {
          "base_uri": "https://localhost:8080/",
          "height": 295
        },
        "id": "zLh-LVbK9ktQ",
        "outputId": "170264e8-e070-4c57-a25c-e43764cac024"
      },
      "execution_count": 34,
      "outputs": [
        {
          "output_type": "display_data",
          "data": {
            "text/plain": [
              "<Figure size 864x288 with 2 Axes>"
            ],
            "image/png": "[encoded data removed]"
          },
          "metadata": {
            "needs_background": "light"
          }
        }
      ]
    },
    {
      "cell_type": "code",
      "source": [
        "# DK\n",
        "# Confusion Matrix\n",
        "from sklearn.metrics import plot_confusion_matrix\n",
        "plot_confusion_matrix(RF_best, X_test, y_test)  "
      ],
      "metadata": {
        "colab": {
          "base_uri": "https://localhost:8080/",
          "height": 351
        },
        "id": "wy1J8AKK-isD",
        "outputId": "e47a80c5-4d53-47f9-8bf3-b1c219447ea7"
      },
      "execution_count": 35,
      "outputs": [
        {
          "output_type": "stream",
          "name": "stderr",
          "text": [
            "/usr/local/lib/python3.7/dist-packages/sklearn/utils/deprecation.py:87: FutureWarning: Function plot_confusion_matrix is deprecated; Function `plot_confusion_matrix` is deprecated in 1.0 and will be removed in 1.2. Use one of the class methods: ConfusionMatrixDisplay.from_predictions or ConfusionMatrixDisplay.from_estimator.\n",
            "  warnings.warn(msg, category=FutureWarning)\n"
          ]
        },
        {
          "output_type": "execute_result",
          "data": {
            "text/plain": [
              "<sklearn.metrics._plot.confusion_matrix.ConfusionMatrixDisplay at 0x7f575bf99350>"
            ]
          },
          "metadata": {},
          "execution_count": 35
        },
        {
          "output_type": "display_data",
          "data": {
            "text/plain": [
              "<Figure size 432x288 with 2 Axes>"
            ],
            "image/png": "[encoded data removed]"
          },
          "metadata": {
            "needs_background": "light"
          }
        }
      ]
    },
    {
      "cell_type": "code",
      "source": [
        "# DK\n",
        "# Calculate precision/recall/accuarcy\n",
        "from sklearn.metrics import precision_score, recall_score, accuracy_score\n",
        "\n",
        "precision_RF = precision_score(y_test, y_pred_test_RF, average=\"macro\")\n",
        "recall_RF = recall_score(y_test, y_pred_test_RF, average=\"macro\")\n",
        "accuarcy_RF = accuracy_score(y_test, y_pred_test_RF)\n",
        "print(\"The precision of RF is\", precision_RF)\n",
        "print(\"The recall of RF is\", recall_RF)\n",
        "print(\"The accuarcy of RF is\", accuarcy_RF)"
      ],
      "metadata": {
        "colab": {
          "base_uri": "https://localhost:8080/"
        },
        "id": "FUtfMW4x-4oR",
        "outputId": "6ba1676a-7f2c-4c8e-ba3f-36895ac4183e"
      },
      "execution_count": 37,
      "outputs": [
        {
          "output_type": "stream",
          "name": "stdout",
          "text": [
            "The precision of RF is 0.6146277719490945\n",
            "The recall of RF is 0.624591924582202\n",
            "The accuarcy of RF is 0.6243386243386243\n"
          ]
        }
      ]
    },
    {
      "cell_type": "code",
      "source": [
        "# DK\n",
        "# p value\n",
        "positions2 = np.where(RF_random.predict(X_test)> 0, 1, -1 ) \n",
        "detrended_open = detrendPrice(AAPL_csv['Open'][1000:])\n",
        "detrended_retFut1 = detrended_open.pct_change(periods=1).shift(-1).fillna(0)\n",
        "detrended_syst_rets = detrended_retFut1 * pd.Series(positions2).fillna(0)\n",
        "bootstrap(detrended_syst_rets)"
      ],
      "metadata": {
        "colab": {
          "base_uri": "https://localhost:8080/",
          "height": 352
        },
        "id": "fekGaztOLCti",
        "outputId": "b9fcd2a5-9ea9-4182-fe16-2eada815c717"
      },
      "execution_count": 38,
      "outputs": [
        {
          "output_type": "stream",
          "name": "stdout",
          "text": [
            "average return 0.001545\n",
            "[-0.01540025  0.01603433]\n",
            "Do not reject Ho = The population distribution of rule returns has an expected value of zero or less (because p_value is not small enough)\n",
            "p_value:\n",
            "0.4226\n"
          ]
        },
        {
          "output_type": "display_data",
          "data": {
            "text/plain": [
              "<Figure size 432x288 with 1 Axes>"
            ],
            "image/png": "[encoded data removed]"
          },
          "metadata": {
            "needs_background": "light"
          }
        }
      ]
    },
    {
      "cell_type": "markdown",
      "source": [
        "Logistic Regression"
      ],
      "metadata": {
        "id": "teXgTsXQbsXS"
      }
    },
    {
      "cell_type": "code",
      "source": [
        "from sklearn.model_selection import GridSearchCV\n",
        "from sklearn.linear_model import LogisticRegression\n",
        "\n",
        "lr = LogisticRegression(max_iter=10000)\n",
        "solvers = ['lbfgs', 'sag', 'saga','newton-cg'] \n",
        "class_weights = ['balanced', None]\n",
        "c_values = [10, 1.0, 0.5, 0.1, 0.01]\n",
        "\n",
        "# define grid search\n",
        "grid_search = GridSearchCV(estimator=lr, param_grid=dict(solver=solvers,class_weight=class_weights,C=c_values),\n",
        "                           n_jobs=-1, cv=3, scoring='f1',error_score=0)\n",
        "grid_result = grid_search.fit(X_train, y_train)\n",
        "# summarize results\n",
        "print ('Best Parameters: ', grid_result.best_params_, ' \\n')"
      ],
      "metadata": {
        "id": "1cMXMZRdb0iT",
        "colab": {
          "base_uri": "https://localhost:8080/"
        },
        "outputId": "30171dd8-20da-49d3-a8f5-40d4accf864b"
      },
      "execution_count": null,
      "outputs": [
        {
          "output_type": "stream",
          "name": "stdout",
          "text": [
            "Best Parameters:  {'C': 10, 'class_weight': 'balanced', 'solver': 'lbfgs'}  \n",
            "\n"
          ]
        }
      ]
    },
    {
      "cell_type": "code",
      "source": [
        "LR_best = LogisticRegression(C = 10, class_weight = 'balanced', solver = 'lbfgs', max_iter = 10000) \n",
        "LR_best.fit(X_train, y_train) \n",
        "y_pred_train_LR = LR_best.predict(X_train)\n",
        "y_pred_test_LR = LR_best.predict(X_test)\n",
        "\n",
        "feature_importance_LR = LR_best.coef_[0]\n",
        "plt.figure(figsize = (16,8))\n",
        "\n",
        "# Create plot title\n",
        "plt.title(\"Feature Importance of Logistic Regression\")\n",
        "\n",
        "# Add bars\n",
        "plt.bar(range(X_train.shape[1]),  feature_importance_LR)\n",
        "\n",
        "# Add feature names as x-axis labels\n",
        "plt.xticks(range(X_train.shape[1]), X_train.columns, rotation = 45)\n",
        "\n",
        "# Show plot\n",
        "plt.show()"
      ],
      "metadata": {
        "colab": {
          "base_uri": "https://localhost:8080/",
          "height": 556
        },
        "id": "PbP2OWV7pq2H",
        "outputId": "cf1c4bbe-7172-4902-c631-2cb91805a2f7"
      },
      "execution_count": null,
      "outputs": [
        {
          "output_type": "display_data",
          "data": {
            "text/plain": [
              "<Figure size 1152x576 with 1 Axes>"
            ],
            "image/png": "[encoded data removed]"
          },
          "metadata": {
            "needs_background": "light"
          }
        }
      ]
    },
    {
      "cell_type": "code",
      "source": [
        "from sklearn.metrics import precision_score, recall_score, accuracy_score\n",
        "\n",
        "precision_LR = precision_score(y_test, y_pred_test_LR, average=\"macro\")\n",
        "recall_LR = recall_score(y_test, y_pred_test_LR, average=\"macro\")\n",
        "accuarcy_LR = accuracy_score(y_test, y_pred_test_LR)\n",
        "print(\"The precision of LR is\", precision_LR)\n",
        "print(\"The recall of LR is\", recall_LR)\n",
        "print(\"The accuarcy of LR is\", accuarcy_LR)"
      ],
      "metadata": {
        "colab": {
          "base_uri": "https://localhost:8080/"
        },
        "id": "LZU-mplrra98",
        "outputId": "c514d7d6-bfba-4378-f5d2-6110e6d87c8b"
      },
      "execution_count": null,
      "outputs": [
        {
          "output_type": "stream",
          "name": "stdout",
          "text": [
            "The precision of LR is 0.631628822596777\n",
            "The recall of LR is 0.6184746712682933\n",
            "The accuarcy of LR is 0.6137566137566137\n"
          ]
        }
      ]
    },
    {
      "cell_type": "code",
      "source": [
        "from sklearn.metrics import plot_confusion_matrix\n",
        "plot_confusion_matrix(LR_best, X_test, y_test) "
      ],
      "metadata": {
        "colab": {
          "base_uri": "https://localhost:8080/",
          "height": 351
        },
        "id": "f5pec9CzrH3r",
        "outputId": "dd592039-532e-495e-fd4e-35c3d1ad57f4"
      },
      "execution_count": null,
      "outputs": [
        {
          "output_type": "stream",
          "name": "stderr",
          "text": [
            "/usr/local/lib/python3.7/dist-packages/sklearn/utils/deprecation.py:87: FutureWarning: Function plot_confusion_matrix is deprecated; Function `plot_confusion_matrix` is deprecated in 1.0 and will be removed in 1.2. Use one of the class methods: ConfusionMatrixDisplay.from_predictions or ConfusionMatrixDisplay.from_estimator.\n",
            "  warnings.warn(msg, category=FutureWarning)\n"
          ]
        },
        {
          "output_type": "execute_result",
          "data": {
            "text/plain": [
              "<sklearn.metrics._plot.confusion_matrix.ConfusionMatrixDisplay at 0x7f25ec621950>"
            ]
          },
          "metadata": {},
          "execution_count": 32
        },
        {
          "output_type": "display_data",
          "data": {
            "text/plain": [
              "<Figure size 432x288 with 2 Axes>"
            ],
            "image/png": "[encoded data removed]"
          },
          "metadata": {
            "needs_background": "light"
          }
        }
      ]
    },
    {
      "cell_type": "code",
      "source": [
        "# calculate the p-value\n",
        "\n",
        "positions2 = np.where(grid_search.predict(X_test)> 0,1,-1 ) \n",
        "detrended_open = detrendPrice(AAPL_csv['Open'][1000:])\n",
        "detrended_retFut1 = detrended_open.pct_change(periods=1).shift(-1).fillna(0)\n",
        "detrended_syst_rets = detrended_retFut1 * pd.Series(positions2).fillna(0)\n",
        "bootstrap(detrended_syst_rets)"
      ],
      "metadata": {
        "colab": {
          "base_uri": "https://localhost:8080/",
          "height": 352
        },
        "id": "ialHvdQ7sDiI",
        "outputId": "ad4623c7-8b40-4ac9-f356-1ec35c3bd71d"
      },
      "execution_count": null,
      "outputs": [
        {
          "output_type": "stream",
          "name": "stdout",
          "text": [
            "average return 0.003176\n",
            "[-0.01548258  0.01595775]\n",
            "Do not reject Ho = The population distribution of rule returns has an expected value of zero or less (because p_value is not small enough)\n",
            "p_value:\n",
            "0.3388\n"
          ]
        },
        {
          "output_type": "display_data",
          "data": {
            "text/plain": [
              "<Figure size 432x288 with 1 Axes>"
            ],
            "image/png": "[encoded data removed]"
          },
          "metadata": {
            "needs_background": "light"
          }
        }
      ]
    }
  ]
}